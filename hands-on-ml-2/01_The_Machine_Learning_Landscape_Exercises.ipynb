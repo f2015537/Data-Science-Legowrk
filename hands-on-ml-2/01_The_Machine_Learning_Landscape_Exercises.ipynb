{
 "cells": [
  {
   "cell_type": "markdown",
   "id": "confident-paint",
   "metadata": {},
   "source": [
    "### 1.\n",
    "Machine Learning is the science (and art) of programming computers so that thay can learn from data.\n"
   ]
  },
  {
   "cell_type": "markdown",
   "id": "recent-screen",
   "metadata": {},
   "source": [
    "### 2.\n",
    "- Problems for which existing solutions require a lot of fine-tuning or long list of rules: one Machine Learning algorithm can often simplify code and perform better than the traditional approach.\n",
    "- Complex problems for which using a traditional approach yields no good solution: the best machine learning techniques can perhaps find a solution.\n",
    "- Fluctuating environments - a Machine Learning system can adapt to new data.\n",
    "- Getting insights about complex problems and large amounts of data."
   ]
  },
  {
   "cell_type": "markdown",
   "id": "anonymous-platinum",
   "metadata": {},
   "source": [
    "### 10.\n",
    "Out-of-core algorithms can handle vast quantities of data that cannot fit in a computer's main memory. An out-of-core learning algorithm chops the data into mini-batches and uses online learning techniques to learn from these mini bathces,"
   ]
  },
  {
   "cell_type": "markdown",
   "id": "cardiac-juvenile",
   "metadata": {},
   "source": [
    "### 12.\n",
    "A model has one or more model parameters that determine what it will predict given a new instance (e.g. the slope of a linear model). A learning algorithm tries to find optimal values for these parameters such that the model generalizes well to new instances. A hyperparameter is a parameter of the learning algorithm itself and not the model (eq. the amount of regularization to apply)."
   ]
  },
  {
   "cell_type": "markdown",
   "id": "direct-champagne",
   "metadata": {},
   "source": [
    "### 13.\n",
    "Model-based learning algorithms search for an optimal value for the model parameters such that the model will generalize well to new instances. We usually train such systems by minimizing a cost function that measures how bad the system is at making predictions on the training data, plus a penalty for the model complexity if the model is regularized. To make predictions, we feed the new instance's features into the model's prediction function which uses using the parameter values found by our learning algorithm."
   ]
  },
  {
   "cell_type": "code",
   "execution_count": null,
   "id": "pleased-receiver",
   "metadata": {},
   "outputs": [],
   "source": []
  }
 ],
 "metadata": {
  "kernelspec": {
   "display_name": "Python 3",
   "language": "python",
   "name": "python3"
  },
  "language_info": {
   "codemirror_mode": {
    "name": "ipython",
    "version": 3
   },
   "file_extension": ".py",
   "mimetype": "text/x-python",
   "name": "python",
   "nbconvert_exporter": "python",
   "pygments_lexer": "ipython3",
   "version": "3.8.5"
  }
 },
 "nbformat": 4,
 "nbformat_minor": 5
}
